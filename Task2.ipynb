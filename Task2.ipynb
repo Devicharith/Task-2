{
  "nbformat": 4,
  "nbformat_minor": 0,
  "metadata": {
    "colab": {
      "name": "Task2.ipynb",
      "provenance": [],
      "collapsed_sections": [],
      "authorship_tag": "ABX9TyPszSnN7ZeBvNoWz5VZmpLE",
      "include_colab_link": true
    },
    "kernelspec": {
      "name": "python3",
      "display_name": "Python 3"
    },
    "language_info": {
      "name": "python"
    },
    "accelerator": "GPU",
    "widgets": {
      "application/vnd.jupyter.widget-state+json": {
        "94871525a41641168fe6ff842deab7f1": {
          "model_module": "@jupyter-widgets/controls",
          "model_name": "HBoxModel",
          "state": {
            "_view_name": "HBoxView",
            "_dom_classes": [],
            "_model_name": "HBoxModel",
            "_view_module": "@jupyter-widgets/controls",
            "_model_module_version": "1.5.0",
            "_view_count": null,
            "_view_module_version": "1.5.0",
            "box_style": "",
            "layout": "IPY_MODEL_d9a6799cdadd4d169391bf120f2c1ef9",
            "_model_module": "@jupyter-widgets/controls",
            "children": [
              "IPY_MODEL_2881abae21ff46a3a73b88c6c3a86a04",
              "IPY_MODEL_04da4a51e9b34ff0bedf3b5f9c0f5c80"
            ]
          }
        },
        "d9a6799cdadd4d169391bf120f2c1ef9": {
          "model_module": "@jupyter-widgets/base",
          "model_name": "LayoutModel",
          "state": {
            "_view_name": "LayoutView",
            "grid_template_rows": null,
            "right": null,
            "justify_content": null,
            "_view_module": "@jupyter-widgets/base",
            "overflow": null,
            "_model_module_version": "1.2.0",
            "_view_count": null,
            "flex_flow": null,
            "width": null,
            "min_width": null,
            "border": null,
            "align_items": null,
            "bottom": null,
            "_model_module": "@jupyter-widgets/base",
            "top": null,
            "grid_column": null,
            "overflow_y": null,
            "overflow_x": null,
            "grid_auto_flow": null,
            "grid_area": null,
            "grid_template_columns": null,
            "flex": null,
            "_model_name": "LayoutModel",
            "justify_items": null,
            "grid_row": null,
            "max_height": null,
            "align_content": null,
            "visibility": null,
            "align_self": null,
            "height": null,
            "min_height": null,
            "padding": null,
            "grid_auto_rows": null,
            "grid_gap": null,
            "max_width": null,
            "order": null,
            "_view_module_version": "1.2.0",
            "grid_template_areas": null,
            "object_position": null,
            "object_fit": null,
            "grid_auto_columns": null,
            "margin": null,
            "display": null,
            "left": null
          }
        },
        "2881abae21ff46a3a73b88c6c3a86a04": {
          "model_module": "@jupyter-widgets/controls",
          "model_name": "FloatProgressModel",
          "state": {
            "_view_name": "ProgressView",
            "style": "IPY_MODEL_1d8b1431c24e423b86d84142e9eca8e0",
            "_dom_classes": [],
            "description": "Downloading: 100%",
            "_model_name": "FloatProgressModel",
            "bar_style": "success",
            "max": 231508,
            "_view_module": "@jupyter-widgets/controls",
            "_model_module_version": "1.5.0",
            "value": 231508,
            "_view_count": null,
            "_view_module_version": "1.5.0",
            "orientation": "horizontal",
            "min": 0,
            "description_tooltip": null,
            "_model_module": "@jupyter-widgets/controls",
            "layout": "IPY_MODEL_68d49794ca8b4cf692677dd4d1102836"
          }
        },
        "04da4a51e9b34ff0bedf3b5f9c0f5c80": {
          "model_module": "@jupyter-widgets/controls",
          "model_name": "HTMLModel",
          "state": {
            "_view_name": "HTMLView",
            "style": "IPY_MODEL_3c56dc8f9bb84780a0d939528d4b393f",
            "_dom_classes": [],
            "description": "",
            "_model_name": "HTMLModel",
            "placeholder": "​",
            "_view_module": "@jupyter-widgets/controls",
            "_model_module_version": "1.5.0",
            "value": " 232k/232k [00:06&lt;00:00, 37.5kB/s]",
            "_view_count": null,
            "_view_module_version": "1.5.0",
            "description_tooltip": null,
            "_model_module": "@jupyter-widgets/controls",
            "layout": "IPY_MODEL_8ce30a47213b4c568435b61398ebbbdf"
          }
        },
        "1d8b1431c24e423b86d84142e9eca8e0": {
          "model_module": "@jupyter-widgets/controls",
          "model_name": "ProgressStyleModel",
          "state": {
            "_view_name": "StyleView",
            "_model_name": "ProgressStyleModel",
            "description_width": "initial",
            "_view_module": "@jupyter-widgets/base",
            "_model_module_version": "1.5.0",
            "_view_count": null,
            "_view_module_version": "1.2.0",
            "bar_color": null,
            "_model_module": "@jupyter-widgets/controls"
          }
        },
        "68d49794ca8b4cf692677dd4d1102836": {
          "model_module": "@jupyter-widgets/base",
          "model_name": "LayoutModel",
          "state": {
            "_view_name": "LayoutView",
            "grid_template_rows": null,
            "right": null,
            "justify_content": null,
            "_view_module": "@jupyter-widgets/base",
            "overflow": null,
            "_model_module_version": "1.2.0",
            "_view_count": null,
            "flex_flow": null,
            "width": null,
            "min_width": null,
            "border": null,
            "align_items": null,
            "bottom": null,
            "_model_module": "@jupyter-widgets/base",
            "top": null,
            "grid_column": null,
            "overflow_y": null,
            "overflow_x": null,
            "grid_auto_flow": null,
            "grid_area": null,
            "grid_template_columns": null,
            "flex": null,
            "_model_name": "LayoutModel",
            "justify_items": null,
            "grid_row": null,
            "max_height": null,
            "align_content": null,
            "visibility": null,
            "align_self": null,
            "height": null,
            "min_height": null,
            "padding": null,
            "grid_auto_rows": null,
            "grid_gap": null,
            "max_width": null,
            "order": null,
            "_view_module_version": "1.2.0",
            "grid_template_areas": null,
            "object_position": null,
            "object_fit": null,
            "grid_auto_columns": null,
            "margin": null,
            "display": null,
            "left": null
          }
        },
        "3c56dc8f9bb84780a0d939528d4b393f": {
          "model_module": "@jupyter-widgets/controls",
          "model_name": "DescriptionStyleModel",
          "state": {
            "_view_name": "StyleView",
            "_model_name": "DescriptionStyleModel",
            "description_width": "",
            "_view_module": "@jupyter-widgets/base",
            "_model_module_version": "1.5.0",
            "_view_count": null,
            "_view_module_version": "1.2.0",
            "_model_module": "@jupyter-widgets/controls"
          }
        },
        "8ce30a47213b4c568435b61398ebbbdf": {
          "model_module": "@jupyter-widgets/base",
          "model_name": "LayoutModel",
          "state": {
            "_view_name": "LayoutView",
            "grid_template_rows": null,
            "right": null,
            "justify_content": null,
            "_view_module": "@jupyter-widgets/base",
            "overflow": null,
            "_model_module_version": "1.2.0",
            "_view_count": null,
            "flex_flow": null,
            "width": null,
            "min_width": null,
            "border": null,
            "align_items": null,
            "bottom": null,
            "_model_module": "@jupyter-widgets/base",
            "top": null,
            "grid_column": null,
            "overflow_y": null,
            "overflow_x": null,
            "grid_auto_flow": null,
            "grid_area": null,
            "grid_template_columns": null,
            "flex": null,
            "_model_name": "LayoutModel",
            "justify_items": null,
            "grid_row": null,
            "max_height": null,
            "align_content": null,
            "visibility": null,
            "align_self": null,
            "height": null,
            "min_height": null,
            "padding": null,
            "grid_auto_rows": null,
            "grid_gap": null,
            "max_width": null,
            "order": null,
            "_view_module_version": "1.2.0",
            "grid_template_areas": null,
            "object_position": null,
            "object_fit": null,
            "grid_auto_columns": null,
            "margin": null,
            "display": null,
            "left": null
          }
        },
        "768e89acce6c49dd89c42fc53e87b83d": {
          "model_module": "@jupyter-widgets/controls",
          "model_name": "HBoxModel",
          "state": {
            "_view_name": "HBoxView",
            "_dom_classes": [],
            "_model_name": "HBoxModel",
            "_view_module": "@jupyter-widgets/controls",
            "_model_module_version": "1.5.0",
            "_view_count": null,
            "_view_module_version": "1.5.0",
            "box_style": "",
            "layout": "IPY_MODEL_383825197c1f4f61adedfb39f3769b08",
            "_model_module": "@jupyter-widgets/controls",
            "children": [
              "IPY_MODEL_bd120671846f40c7b2425b3bc4213165",
              "IPY_MODEL_b443d5ff03164c54ae534a8a40c86948"
            ]
          }
        },
        "383825197c1f4f61adedfb39f3769b08": {
          "model_module": "@jupyter-widgets/base",
          "model_name": "LayoutModel",
          "state": {
            "_view_name": "LayoutView",
            "grid_template_rows": null,
            "right": null,
            "justify_content": null,
            "_view_module": "@jupyter-widgets/base",
            "overflow": null,
            "_model_module_version": "1.2.0",
            "_view_count": null,
            "flex_flow": null,
            "width": null,
            "min_width": null,
            "border": null,
            "align_items": null,
            "bottom": null,
            "_model_module": "@jupyter-widgets/base",
            "top": null,
            "grid_column": null,
            "overflow_y": null,
            "overflow_x": null,
            "grid_auto_flow": null,
            "grid_area": null,
            "grid_template_columns": null,
            "flex": null,
            "_model_name": "LayoutModel",
            "justify_items": null,
            "grid_row": null,
            "max_height": null,
            "align_content": null,
            "visibility": null,
            "align_self": null,
            "height": null,
            "min_height": null,
            "padding": null,
            "grid_auto_rows": null,
            "grid_gap": null,
            "max_width": null,
            "order": null,
            "_view_module_version": "1.2.0",
            "grid_template_areas": null,
            "object_position": null,
            "object_fit": null,
            "grid_auto_columns": null,
            "margin": null,
            "display": null,
            "left": null
          }
        },
        "bd120671846f40c7b2425b3bc4213165": {
          "model_module": "@jupyter-widgets/controls",
          "model_name": "FloatProgressModel",
          "state": {
            "_view_name": "ProgressView",
            "style": "IPY_MODEL_4a826ede1b2f4641b7116af0a6914ab0",
            "_dom_classes": [],
            "description": "Downloading: 100%",
            "_model_name": "FloatProgressModel",
            "bar_style": "success",
            "max": 466062,
            "_view_module": "@jupyter-widgets/controls",
            "_model_module_version": "1.5.0",
            "value": 466062,
            "_view_count": null,
            "_view_module_version": "1.5.0",
            "orientation": "horizontal",
            "min": 0,
            "description_tooltip": null,
            "_model_module": "@jupyter-widgets/controls",
            "layout": "IPY_MODEL_874c9bbd7df7416f9834f888460a29ea"
          }
        },
        "b443d5ff03164c54ae534a8a40c86948": {
          "model_module": "@jupyter-widgets/controls",
          "model_name": "HTMLModel",
          "state": {
            "_view_name": "HTMLView",
            "style": "IPY_MODEL_c196c4da3c664ede9fe46fb43d88cb9a",
            "_dom_classes": [],
            "description": "",
            "_model_name": "HTMLModel",
            "placeholder": "​",
            "_view_module": "@jupyter-widgets/controls",
            "_model_module_version": "1.5.0",
            "value": " 466k/466k [00:05&lt;00:00, 88.2kB/s]",
            "_view_count": null,
            "_view_module_version": "1.5.0",
            "description_tooltip": null,
            "_model_module": "@jupyter-widgets/controls",
            "layout": "IPY_MODEL_d4ab7c3faf1f41ad9a768eab7cdb7c16"
          }
        },
        "4a826ede1b2f4641b7116af0a6914ab0": {
          "model_module": "@jupyter-widgets/controls",
          "model_name": "ProgressStyleModel",
          "state": {
            "_view_name": "StyleView",
            "_model_name": "ProgressStyleModel",
            "description_width": "initial",
            "_view_module": "@jupyter-widgets/base",
            "_model_module_version": "1.5.0",
            "_view_count": null,
            "_view_module_version": "1.2.0",
            "bar_color": null,
            "_model_module": "@jupyter-widgets/controls"
          }
        },
        "874c9bbd7df7416f9834f888460a29ea": {
          "model_module": "@jupyter-widgets/base",
          "model_name": "LayoutModel",
          "state": {
            "_view_name": "LayoutView",
            "grid_template_rows": null,
            "right": null,
            "justify_content": null,
            "_view_module": "@jupyter-widgets/base",
            "overflow": null,
            "_model_module_version": "1.2.0",
            "_view_count": null,
            "flex_flow": null,
            "width": null,
            "min_width": null,
            "border": null,
            "align_items": null,
            "bottom": null,
            "_model_module": "@jupyter-widgets/base",
            "top": null,
            "grid_column": null,
            "overflow_y": null,
            "overflow_x": null,
            "grid_auto_flow": null,
            "grid_area": null,
            "grid_template_columns": null,
            "flex": null,
            "_model_name": "LayoutModel",
            "justify_items": null,
            "grid_row": null,
            "max_height": null,
            "align_content": null,
            "visibility": null,
            "align_self": null,
            "height": null,
            "min_height": null,
            "padding": null,
            "grid_auto_rows": null,
            "grid_gap": null,
            "max_width": null,
            "order": null,
            "_view_module_version": "1.2.0",
            "grid_template_areas": null,
            "object_position": null,
            "object_fit": null,
            "grid_auto_columns": null,
            "margin": null,
            "display": null,
            "left": null
          }
        },
        "c196c4da3c664ede9fe46fb43d88cb9a": {
          "model_module": "@jupyter-widgets/controls",
          "model_name": "DescriptionStyleModel",
          "state": {
            "_view_name": "StyleView",
            "_model_name": "DescriptionStyleModel",
            "description_width": "",
            "_view_module": "@jupyter-widgets/base",
            "_model_module_version": "1.5.0",
            "_view_count": null,
            "_view_module_version": "1.2.0",
            "_model_module": "@jupyter-widgets/controls"
          }
        },
        "d4ab7c3faf1f41ad9a768eab7cdb7c16": {
          "model_module": "@jupyter-widgets/base",
          "model_name": "LayoutModel",
          "state": {
            "_view_name": "LayoutView",
            "grid_template_rows": null,
            "right": null,
            "justify_content": null,
            "_view_module": "@jupyter-widgets/base",
            "overflow": null,
            "_model_module_version": "1.2.0",
            "_view_count": null,
            "flex_flow": null,
            "width": null,
            "min_width": null,
            "border": null,
            "align_items": null,
            "bottom": null,
            "_model_module": "@jupyter-widgets/base",
            "top": null,
            "grid_column": null,
            "overflow_y": null,
            "overflow_x": null,
            "grid_auto_flow": null,
            "grid_area": null,
            "grid_template_columns": null,
            "flex": null,
            "_model_name": "LayoutModel",
            "justify_items": null,
            "grid_row": null,
            "max_height": null,
            "align_content": null,
            "visibility": null,
            "align_self": null,
            "height": null,
            "min_height": null,
            "padding": null,
            "grid_auto_rows": null,
            "grid_gap": null,
            "max_width": null,
            "order": null,
            "_view_module_version": "1.2.0",
            "grid_template_areas": null,
            "object_position": null,
            "object_fit": null,
            "grid_auto_columns": null,
            "margin": null,
            "display": null,
            "left": null
          }
        },
        "87bbf4903a89482d9f1cf46428fa1879": {
          "model_module": "@jupyter-widgets/controls",
          "model_name": "HBoxModel",
          "state": {
            "_view_name": "HBoxView",
            "_dom_classes": [],
            "_model_name": "HBoxModel",
            "_view_module": "@jupyter-widgets/controls",
            "_model_module_version": "1.5.0",
            "_view_count": null,
            "_view_module_version": "1.5.0",
            "box_style": "",
            "layout": "IPY_MODEL_fdeb2645677145759cf93e0f754684a5",
            "_model_module": "@jupyter-widgets/controls",
            "children": [
              "IPY_MODEL_941ba075423f4734ba1ac4832b815f94",
              "IPY_MODEL_8d4d69c675584bb0aa78206cb16ed3db"
            ]
          }
        },
        "fdeb2645677145759cf93e0f754684a5": {
          "model_module": "@jupyter-widgets/base",
          "model_name": "LayoutModel",
          "state": {
            "_view_name": "LayoutView",
            "grid_template_rows": null,
            "right": null,
            "justify_content": null,
            "_view_module": "@jupyter-widgets/base",
            "overflow": null,
            "_model_module_version": "1.2.0",
            "_view_count": null,
            "flex_flow": null,
            "width": null,
            "min_width": null,
            "border": null,
            "align_items": null,
            "bottom": null,
            "_model_module": "@jupyter-widgets/base",
            "top": null,
            "grid_column": null,
            "overflow_y": null,
            "overflow_x": null,
            "grid_auto_flow": null,
            "grid_area": null,
            "grid_template_columns": null,
            "flex": null,
            "_model_name": "LayoutModel",
            "justify_items": null,
            "grid_row": null,
            "max_height": null,
            "align_content": null,
            "visibility": null,
            "align_self": null,
            "height": null,
            "min_height": null,
            "padding": null,
            "grid_auto_rows": null,
            "grid_gap": null,
            "max_width": null,
            "order": null,
            "_view_module_version": "1.2.0",
            "grid_template_areas": null,
            "object_position": null,
            "object_fit": null,
            "grid_auto_columns": null,
            "margin": null,
            "display": null,
            "left": null
          }
        },
        "941ba075423f4734ba1ac4832b815f94": {
          "model_module": "@jupyter-widgets/controls",
          "model_name": "FloatProgressModel",
          "state": {
            "_view_name": "ProgressView",
            "style": "IPY_MODEL_4d142748697842ceae483e7424022b76",
            "_dom_classes": [],
            "description": "Downloading: 100%",
            "_model_name": "FloatProgressModel",
            "bar_style": "success",
            "max": 28,
            "_view_module": "@jupyter-widgets/controls",
            "_model_module_version": "1.5.0",
            "value": 28,
            "_view_count": null,
            "_view_module_version": "1.5.0",
            "orientation": "horizontal",
            "min": 0,
            "description_tooltip": null,
            "_model_module": "@jupyter-widgets/controls",
            "layout": "IPY_MODEL_86f3a61a9db74ad1b2bc73caf2aadae9"
          }
        },
        "8d4d69c675584bb0aa78206cb16ed3db": {
          "model_module": "@jupyter-widgets/controls",
          "model_name": "HTMLModel",
          "state": {
            "_view_name": "HTMLView",
            "style": "IPY_MODEL_1b6d3582fad34e86bfb5d3f6530b7c44",
            "_dom_classes": [],
            "description": "",
            "_model_name": "HTMLModel",
            "placeholder": "​",
            "_view_module": "@jupyter-widgets/controls",
            "_model_module_version": "1.5.0",
            "value": " 28.0/28.0 [00:00&lt;00:00, 43.9B/s]",
            "_view_count": null,
            "_view_module_version": "1.5.0",
            "description_tooltip": null,
            "_model_module": "@jupyter-widgets/controls",
            "layout": "IPY_MODEL_acef04dd442941a4a995937f7a073f2d"
          }
        },
        "4d142748697842ceae483e7424022b76": {
          "model_module": "@jupyter-widgets/controls",
          "model_name": "ProgressStyleModel",
          "state": {
            "_view_name": "StyleView",
            "_model_name": "ProgressStyleModel",
            "description_width": "initial",
            "_view_module": "@jupyter-widgets/base",
            "_model_module_version": "1.5.0",
            "_view_count": null,
            "_view_module_version": "1.2.0",
            "bar_color": null,
            "_model_module": "@jupyter-widgets/controls"
          }
        },
        "86f3a61a9db74ad1b2bc73caf2aadae9": {
          "model_module": "@jupyter-widgets/base",
          "model_name": "LayoutModel",
          "state": {
            "_view_name": "LayoutView",
            "grid_template_rows": null,
            "right": null,
            "justify_content": null,
            "_view_module": "@jupyter-widgets/base",
            "overflow": null,
            "_model_module_version": "1.2.0",
            "_view_count": null,
            "flex_flow": null,
            "width": null,
            "min_width": null,
            "border": null,
            "align_items": null,
            "bottom": null,
            "_model_module": "@jupyter-widgets/base",
            "top": null,
            "grid_column": null,
            "overflow_y": null,
            "overflow_x": null,
            "grid_auto_flow": null,
            "grid_area": null,
            "grid_template_columns": null,
            "flex": null,
            "_model_name": "LayoutModel",
            "justify_items": null,
            "grid_row": null,
            "max_height": null,
            "align_content": null,
            "visibility": null,
            "align_self": null,
            "height": null,
            "min_height": null,
            "padding": null,
            "grid_auto_rows": null,
            "grid_gap": null,
            "max_width": null,
            "order": null,
            "_view_module_version": "1.2.0",
            "grid_template_areas": null,
            "object_position": null,
            "object_fit": null,
            "grid_auto_columns": null,
            "margin": null,
            "display": null,
            "left": null
          }
        },
        "1b6d3582fad34e86bfb5d3f6530b7c44": {
          "model_module": "@jupyter-widgets/controls",
          "model_name": "DescriptionStyleModel",
          "state": {
            "_view_name": "StyleView",
            "_model_name": "DescriptionStyleModel",
            "description_width": "",
            "_view_module": "@jupyter-widgets/base",
            "_model_module_version": "1.5.0",
            "_view_count": null,
            "_view_module_version": "1.2.0",
            "_model_module": "@jupyter-widgets/controls"
          }
        },
        "acef04dd442941a4a995937f7a073f2d": {
          "model_module": "@jupyter-widgets/base",
          "model_name": "LayoutModel",
          "state": {
            "_view_name": "LayoutView",
            "grid_template_rows": null,
            "right": null,
            "justify_content": null,
            "_view_module": "@jupyter-widgets/base",
            "overflow": null,
            "_model_module_version": "1.2.0",
            "_view_count": null,
            "flex_flow": null,
            "width": null,
            "min_width": null,
            "border": null,
            "align_items": null,
            "bottom": null,
            "_model_module": "@jupyter-widgets/base",
            "top": null,
            "grid_column": null,
            "overflow_y": null,
            "overflow_x": null,
            "grid_auto_flow": null,
            "grid_area": null,
            "grid_template_columns": null,
            "flex": null,
            "_model_name": "LayoutModel",
            "justify_items": null,
            "grid_row": null,
            "max_height": null,
            "align_content": null,
            "visibility": null,
            "align_self": null,
            "height": null,
            "min_height": null,
            "padding": null,
            "grid_auto_rows": null,
            "grid_gap": null,
            "max_width": null,
            "order": null,
            "_view_module_version": "1.2.0",
            "grid_template_areas": null,
            "object_position": null,
            "object_fit": null,
            "grid_auto_columns": null,
            "margin": null,
            "display": null,
            "left": null
          }
        }
      }
    }
  },
  "cells": [
    {
      "cell_type": "markdown",
      "metadata": {
        "id": "view-in-github",
        "colab_type": "text"
      },
      "source": [
        "<a href=\"https://colab.research.google.com/github/Devicharith/Task-2/blob/main/Task2.ipynb\" target=\"_parent\"><img src=\"https://colab.research.google.com/assets/colab-badge.svg\" alt=\"Open In Colab\"/></a>"
      ]
    },
    {
      "cell_type": "markdown",
      "metadata": {
        "id": "5-axnmWvt7HZ"
      },
      "source": [
        "Import require Libraries"
      ]
    },
    {
      "cell_type": "code",
      "metadata": {
        "colab": {
          "base_uri": "https://localhost:8080/"
        },
        "id": "3CYcdCWFt6W1",
        "outputId": "69626ed8-7c0a-435d-db1f-89c56508b76c"
      },
      "source": [
        "import pandas as pd\n",
        "import nltk\n",
        "nltk.download('punkt')\n",
        "nltk.download('vader_lexicon')\n",
        "nltk.download('wordnet')\n",
        "nltk.download('stopwords')\n",
        "from nltk.sentiment.vader import SentimentIntensityAnalyzer\n",
        "\n",
        "#preprocessing\n",
        "from nltk.corpus import stopwords  #stopwords\n",
        "from nltk import word_tokenize,sent_tokenize # tokenizing\n",
        "from nltk.stem import PorterStemmer  # using the Porter Stemmer and Lancaster Stemmer and others\n",
        "from nltk.stem import WordNetLemmatizer\n",
        "from sklearn.feature_extraction.text import TfidfVectorizer,CountVectorizer\n",
        "\n",
        "# !pip install flair\n",
        "# import flair"
      ],
      "execution_count": 1,
      "outputs": [
        {
          "output_type": "stream",
          "text": [
            "[nltk_data] Downloading package punkt to /root/nltk_data...\n",
            "[nltk_data]   Unzipping tokenizers/punkt.zip.\n",
            "[nltk_data] Downloading package vader_lexicon to /root/nltk_data...\n",
            "[nltk_data] Downloading package wordnet to /root/nltk_data...\n",
            "[nltk_data]   Unzipping corpora/wordnet.zip.\n",
            "[nltk_data] Downloading package stopwords to /root/nltk_data...\n",
            "[nltk_data]   Unzipping corpora/stopwords.zip.\n"
          ],
          "name": "stdout"
        },
        {
          "output_type": "stream",
          "text": [
            "/usr/local/lib/python3.7/dist-packages/nltk/twitter/__init__.py:20: UserWarning: The twython library has not been installed. Some functionality from the twitter package will not be available.\n",
            "  warnings.warn(\"The twython library has not been installed. \"\n"
          ],
          "name": "stderr"
        }
      ]
    },
    {
      "cell_type": "code",
      "metadata": {
        "id": "pEE79D9Rdzn2"
      },
      "source": [
        "para = str(\"\"\"How is it possible that a black hole appears to emit particles when we know that nothing can escape from within its\n",
        "event horizon? The answer, quantum theory tells us, is that the particles do not come from within the black hole, but\n",
        "from the “empty” space just outside the black hole’s event horizon! We can understand this in the following way: what\n",
        "we think of as “empty” space cannot be completely empty because that would mean that all the fields, such as the\n",
        "gravitational and electromagnetic fields, would have to be exactly zero. However, the value of a field and its rate of\n",
        "change with time are like the position and velocity of a particle: the uncertainty principle implies that the more\n",
        "accurately one knows one of these quantities, the less accurately one can know the other. So in empty space the field\n",
        "cannot be fixed at exactly zero, because then it would have both a precise value (zero) and a precise rate of change\n",
        "(also zero). There must be a certain minimum amount of uncertainty, or quantum fluctuations, in the value of the field.\n",
        "One can think of these fluctuations as pairs of particles of light or gravity that appear together at some time, move\n",
        "apart, and then come together again and annihilate each other. These particles are virtual particles like the particles\n",
        "that carry the gravitational force of the sun: unlike real particles, they cannot be observed directly with a particle\n",
        "detector. However, their indirect effects, such as small changes in the energy of electron orbits in atoms, can be\n",
        "measured and agree with the theoretical predictions to a remarkable degree of accuracy. The uncertainty principle also\n",
        "predicts that there will be similar virtual pairs of matter particles, such as electrons or quarks. In this case, however,\n",
        "one member of the pair will be a particle and the other an antiparticle (the antiparticles of light and gravity are the same\n",
        "as the particles).\n",
        "Because energy cannot be created out of nothing, one of the partners in a particle/antiparticle pair will have positive\n",
        "energy, and the other partner negative energy. The one with negative energy is condemned to be a short-lived virtual\n",
        "particle because real particles always have positive energy in normal situations. It must therefore seek out its partner\n",
        "and annihilate with it. However, a real particle close to a massive body has less energy than if it were far away,\n",
        "because it would take energy to lift it far away against the gravitational attraction of the body. Normally, the energy of\n",
        "the particle is still positive, but the gravitational field inside a black hole is so strong that even a real particle can have\n",
        "negative energy there. It is therefore possible, if a black hole is present, for the virtual particle with negative energy to\n",
        "fall into the black hole and become a real particle or antiparticle. In this case it no longer has to annihilate with its\n",
        "partner. Its forsaken partner may fall into the black hole as well. Or, having positive energy, it might also escape from\n",
        "the vicinity of the black hole as a real particle or antiparticle. Between 1887 and 1905 there were several attempts, most notably by the Dutch physicist Hendrik Lorentz, to\n",
        "explain the result of the Michelson-Morley experiment in terms of objects contracting and clocks slowing down\n",
        "when they moved through the ether. However, in a famous paper in 1905, a hitherto unknown clerk in the\n",
        "Swiss patent office, Albert Einstein, pointed out that the whole idea of an ether was unnecessary, providing one\n",
        "was willing to abandon the idea of absolute time. A similar point was made a few weeks later by a leading\n",
        "French mathematician, Henri Poincare. Einstein’s arguments were closer to physics than those of Poincare,\n",
        "who regarded this problem as mathematical. Einstein is usually given the credit for the new theory, but\n",
        "Poincare is remembered by having his name attached to an important part of it.\n",
        "The fundamental postulate of the theory of relativity, as it was called, was that the laws of science should be\n",
        "the same for all freely moving observers, no matter what their speed. This was true for Newton’s laws of\n",
        "motion, but now the idea was extended to include Maxwell’s theory and the speed of light: all observers should\n",
        "measure the same speed of light, no matter how fast they are moving. This simple idea has some remarkable\n",
        "consequences. Perhaps the best known are the equivalence of mass and energy, summed up in Einstein’s\n",
        "famous equation E=mc2 (where E is energy, m is mass, and c is the speed of light), and the law that nothing\n",
        "may travel faster than the speed of light. Because of the equivalence of energy and mass, the energy which an\n",
        "object has due to its motion will add to its mass. In other words, it will make it harder to increase its speed. This\n",
        "effect is only really significant for objects moving at speeds close to the speed of light. For example, at 10\n",
        "percent of the speed of light an object’s mass is only 0.5 percent more than normal, while at 90 percent of the\n",
        "speed of light it would be more than twice its normal mass. As an object approaches the speed of light, its mass\n",
        "rises ever more quickly, so it takes more and more energy to speed it up further. It can in fact never reach the\n",
        "speed of light, because by then its mass would have become infinite, and by the equivalence of mass and\n",
        "energy, it would have taken an infinite amount of energy to get it there. For this reason, any normal object is\n",
        "forever confined by relativity to move at speeds slower than the speed of light. Only light, or other waves that\n",
        "have no intrinsic mass, can move at the speed of light.\n",
        "An equally remarkable consequence of relativity is the way it has revolutionized our ideas of space and time. In\n",
        "Newton’s theory, if a pulse of light is sent from one place to another, different observers would agree on the\n",
        "time that the journey took (since time is absolute), but will not always agree on how far the light traveled (since\n",
        "space is not absolute). Since the speed of the light is just the distance it has traveled divided by the time it has\n",
        "taken, different observers would measure different speeds for the light. In relativity, on the other hand, all\n",
        "observers must agree on how fast light travels. They still, however, do not agree on the distance the light has\n",
        "traveled, so they must therefore now also disagree over the time it has taken. (The time taken is the distance\n",
        "the light has traveled – which the observers do not agree on – divided by the light’s speed – which they do\n",
        "agree on.) In other words, the theory of relativity put an end to the idea of absolute time! It appeared that each\n",
        "observer must have his own measure of time, as recorded by a clock carried with him, and that identical clocks\n",
        "carried by different observers would not necessarily agree.\n",
        "Each observer could use radar to say where and when an event took place by sending out a pulse of light or\n",
        "radio waves. Part of the pulse is reflected back at the event and the observer measures the time at which he\n",
        "receives the echo. The time of the event is then said to be the time halfway between when the pulse was sent\n",
        "and the time when the reflection was received back: the distance of the event is half the time taken for this\n",
        "round trip, multiplied by the speed of light. (An event, in this sense, is something that takes place at a single\n",
        "point in space, at a specified point in time.) \"\"\")"
      ],
      "execution_count": 10,
      "outputs": []
    },
    {
      "cell_type": "code",
      "metadata": {
        "colab": {
          "base_uri": "https://localhost:8080/",
          "height": 121
        },
        "id": "Gu8x3Ib-cjEW",
        "outputId": "c4b0128d-5888-4eb0-88bb-001a4fa7ef6a"
      },
      "source": [
        "para"
      ],
      "execution_count": 9,
      "outputs": [
        {
          "output_type": "execute_result",
          "data": {
            "application/vnd.google.colaboratory.intrinsic+json": {
              "type": "string"
            },
            "text/plain": [
              "'How is it possible that a black hole appears to emit particles when we know that nothing can escape from within its\\nevent horizon? The answer, quantum theory tells us, is that the particles do not come from within the black hole, but\\nfrom the “empty” space just outside the black hole’s event horizon! We can understand this in the following way: what\\nwe think of as “empty” space cannot be completely empty because that would mean that all the fields, such as the\\ngravitational and electromagnetic fields, would have to be exactly zero. However, the value of a field and its rate of\\nchange with time are like the position and velocity of a particle: the uncertainty principle implies that the more\\naccurately one knows one of these quantities, the less accurately one can know the other. So in empty space the field\\ncannot be fixed at exactly zero, because then it would have both a precise value (zero) and a precise rate of change\\n(also zero). There must be a certain minimum amount of uncertainty, or quantum fluctuations, in the value of the field.\\nOne can think of these fluctuations as pairs of particles of light or gravity that appear together at some time, move\\napart, and then come together again and annihilate each other. These particles are virtual particles like the particles\\nthat carry the gravitational force of the sun: unlike real particles, they cannot be observed directly with a particle\\ndetector. However, their indirect effects, such as small changes in the energy of electron orbits in atoms, can be\\nmeasured and agree with the theoretical predictions to a remarkable degree of accuracy. The uncertainty principle also\\npredicts that there will be similar virtual pairs of matter particles, such as electrons or quarks. In this case, however,\\none member of the pair will be a particle and the other an antiparticle (the antiparticles of light and gravity are the same\\nas the particles).\\nBecause energy cannot be created out of nothing, one of the partners in a particle/antiparticle pair will have positive\\nenergy, and the other partner negative energy. The one with negative energy is condemned to be a short-lived virtual\\nparticle because real particles always have positive energy in normal situations. It must therefore seek out its partner\\nand annihilate with it. However, a real particle close to a massive body has less energy than if it were far away,\\nbecause it would take energy to lift it far away against the gravitational attraction of the body. Normally, the energy of\\nthe particle is still positive, but the gravitational field inside a black hole is so strong that even a real particle can have\\nnegative energy there. It is therefore possible, if a black hole is present, for the virtual particle with negative energy to\\nfall into the black hole and become a real particle or antiparticle. In this case it no longer has to annihilate with its\\npartner. Its forsaken partner may fall into the black hole as well. Or, having positive energy, it might also escape from\\nthe vicinity of the black hole as a real particle or antiparticle. Between 1887 and 1905 there were several attempts, most notably by the Dutch physicist Hendrik Lorentz, to\\nexplain the result of the Michelson-Morley experiment in terms of objects contracting and clocks slowing down\\nwhen they moved through the ether. However, in a famous paper in 1905, a hitherto unknown clerk in the\\nSwiss patent office, Albert Einstein, pointed out that the whole idea of an ether was unnecessary, providing one\\nwas willing to abandon the idea of absolute time. A similar point was made a few weeks later by a leading\\nFrench mathematician, Henri Poincare. Einstein’s arguments were closer to physics than those of Poincare,\\nwho regarded this problem as mathematical. Einstein is usually given the credit for the new theory, but\\nPoincare is remembered by having his name attached to an important part of it.\\nThe fundamental postulate of the theory of relativity, as it was called, was that the laws of science should be\\nthe same for all freely moving observers, no matter what their speed. This was true for Newton’s laws of\\nmotion, but now the idea was extended to include Maxwell’s theory and the speed of light: all observers should\\nmeasure the same speed of light, no matter how fast they are moving. This simple idea has some remarkable\\nconsequences. Perhaps the best known are the equivalence of mass and energy, summed up in Einstein’s\\nfamous equation E=mc2 (where E is energy, m is mass, and c is the speed of light), and the law that nothing\\nmay travel faster than the speed of light. Because of the equivalence of energy and mass, the energy which an\\nobject has due to its motion will add to its mass. In other words, it will make it harder to increase its speed. This\\neffect is only really significant for objects moving at speeds close to the speed of light. For example, at 10\\npercent of the speed of light an object’s mass is only 0.5 percent more than normal, while at 90 percent of the\\nspeed of light it would be more than twice its normal mass. As an object approaches the speed of light, its mass\\nrises ever more quickly, so it takes more and more energy to speed it up further. It can in fact never reach the\\nspeed of light, because by then its mass would have become infinite, and by the equivalence of mass and\\nenergy, it would have taken an infinite amount of energy to get it there. For this reason, any normal object is\\nforever confined by relativity to move at speeds slower than the speed of light. Only light, or other waves that\\nhave no intrinsic mass, can move at the speed of light.\\nAn equally remarkable consequence of relativity is the way it has revolutionized our ideas of space and time. In\\nNewton’s theory, if a pulse of light is sent from one place to another, different observers would agree on the\\ntime that the journey took (since time is absolute), but will not always agree on how far the light traveled (since\\nspace is not absolute). Since the speed of the light is just the distance it has traveled divided by the time it has\\ntaken, different observers would measure different speeds for the light. In relativity, on the other hand, all\\nobservers must agree on how fast light travels. They still, however, do not agree on the distance the light has\\ntraveled, so they must therefore now also disagree over the time it has taken. (The time taken is the distance\\nthe light has traveled – which the observers do not agree on – divided by the light’s speed – which they do\\nagree on.) In other words, the theory of relativity put an end to the idea of absolute time! It appeared that each\\nobserver must have his own measure of time, as recorded by a clock carried with him, and that identical clocks\\ncarried by different observers would not necessarily agree.\\nEach observer could use radar to say where and when an event took place by sending out a pulse of light or\\nradio waves. Part of the pulse is reflected back at the event and the observer measures the time at which he\\nreceives the echo. The time of the event is then said to be the time halfway between when the pulse was sent\\nand the time when the reflection was received back: the distance of the event is half the time taken for this\\nround trip, multiplied by the speed of light. (An event, in this sense, is something that takes place at a single\\npoint in space, at a specified point in time.) '"
            ]
          },
          "metadata": {
            "tags": []
          },
          "execution_count": 9
        }
      ]
    },
    {
      "cell_type": "markdown",
      "metadata": {
        "id": "r0gvLjyWWlio"
      },
      "source": [
        "**segment the paragraph into sentences**"
      ]
    },
    {
      "cell_type": "code",
      "metadata": {
        "colab": {
          "base_uri": "https://localhost:8080/",
          "height": 52
        },
        "id": "RelGhKiYWtIN",
        "outputId": "8caaebc0-014f-4b81-c66e-bee03ba93e47"
      },
      "source": [
        "''' \n",
        "There are few of doing segmentation\n",
        "1) Using Regex(Regular expression)\n",
        "2) If-else conditions \n",
        "3) machine learning model\n",
        "\n",
        "Regular expressions with the help of regular expression we can easily find end of a sentence.\n",
        "We can use regex to find these end of the sentence and make a split at the current point.\n",
        "'''\n",
        "# import re\n",
        "# sentences = re.split('(?<!\\w\\.\\w.)(?<![A-Z][a-z]\\.)(?<=\\.|\\?)\\s', para1)\n",
        "# print(sentences[0].replace('\\n',''))"
      ],
      "execution_count": 3,
      "outputs": [
        {
          "output_type": "execute_result",
          "data": {
            "application/vnd.google.colaboratory.intrinsic+json": {
              "type": "string"
            },
            "text/plain": [
              "' \\nThere are few of doing segmentation\\n1) Using Regex(Regular expression)\\n2) If-else conditions \\n3) machine learning model\\n\\nRegular expressions with the help of regular expression we can easily find end of a sentence.\\nWe can use regex to find these end of the sentence and make a split at the current point.\\n'"
            ]
          },
          "metadata": {
            "tags": []
          },
          "execution_count": 3
        }
      ]
    },
    {
      "cell_type": "markdown",
      "metadata": {
        "id": "rVkldLDw4-Vj"
      },
      "source": [
        "Using punkt Algo"
      ]
    },
    {
      "cell_type": "code",
      "metadata": {
        "id": "DNyxfFx5hT5M",
        "colab": {
          "base_uri": "https://localhost:8080/",
          "height": 198
        },
        "outputId": "17d761a7-7b2c-41fc-c811-8bff1a871758"
      },
      "source": [
        "''' This tokenizer divides a text into a list of sentences by using an unsupervised algorithm to build sentences. It must be trained on a\n",
        "   large collection of plaintext in the target language before it can be used.\n",
        "'''\n",
        "out = sent_tokenize(para)\n",
        "for i in range(len(out)):  out[i] = out[i].replace('\\n','')\n",
        "\n",
        "d = {'sentence':out}\n",
        "df = pd.DataFrame(d)\n",
        "df.head()"
      ],
      "execution_count": 11,
      "outputs": [
        {
          "output_type": "execute_result",
          "data": {
            "text/html": [
              "<div>\n",
              "<style scoped>\n",
              "    .dataframe tbody tr th:only-of-type {\n",
              "        vertical-align: middle;\n",
              "    }\n",
              "\n",
              "    .dataframe tbody tr th {\n",
              "        vertical-align: top;\n",
              "    }\n",
              "\n",
              "    .dataframe thead th {\n",
              "        text-align: right;\n",
              "    }\n",
              "</style>\n",
              "<table border=\"1\" class=\"dataframe\">\n",
              "  <thead>\n",
              "    <tr style=\"text-align: right;\">\n",
              "      <th></th>\n",
              "      <th>sentence</th>\n",
              "    </tr>\n",
              "  </thead>\n",
              "  <tbody>\n",
              "    <tr>\n",
              "      <th>0</th>\n",
              "      <td>How is it possible that a black hole appears t...</td>\n",
              "    </tr>\n",
              "    <tr>\n",
              "      <th>1</th>\n",
              "      <td>The answer, quantum theory tells us, is that t...</td>\n",
              "    </tr>\n",
              "    <tr>\n",
              "      <th>2</th>\n",
              "      <td>We can understand this in the following way: w...</td>\n",
              "    </tr>\n",
              "    <tr>\n",
              "      <th>3</th>\n",
              "      <td>However, the value of a field and its rate ofc...</td>\n",
              "    </tr>\n",
              "    <tr>\n",
              "      <th>4</th>\n",
              "      <td>So in empty space the fieldcannot be fixed at ...</td>\n",
              "    </tr>\n",
              "  </tbody>\n",
              "</table>\n",
              "</div>"
            ],
            "text/plain": [
              "                                            sentence\n",
              "0  How is it possible that a black hole appears t...\n",
              "1  The answer, quantum theory tells us, is that t...\n",
              "2  We can understand this in the following way: w...\n",
              "3  However, the value of a field and its rate ofc...\n",
              "4  So in empty space the fieldcannot be fixed at ..."
            ]
          },
          "metadata": {
            "tags": []
          },
          "execution_count": 11
        }
      ]
    },
    {
      "cell_type": "markdown",
      "metadata": {
        "id": "kRYJuR934ab5"
      },
      "source": [
        "Sentimental Analysis"
      ]
    },
    {
      "cell_type": "markdown",
      "metadata": {
        "id": "3S_k6ahkWvLi"
      },
      "source": [
        "Bi-Direction LSTM "
      ]
    },
    {
      "cell_type": "code",
      "metadata": {
        "colab": {
          "base_uri": "https://localhost:8080/",
          "height": 271,
          "referenced_widgets": [
            "94871525a41641168fe6ff842deab7f1",
            "d9a6799cdadd4d169391bf120f2c1ef9",
            "2881abae21ff46a3a73b88c6c3a86a04",
            "04da4a51e9b34ff0bedf3b5f9c0f5c80",
            "1d8b1431c24e423b86d84142e9eca8e0",
            "68d49794ca8b4cf692677dd4d1102836",
            "3c56dc8f9bb84780a0d939528d4b393f",
            "8ce30a47213b4c568435b61398ebbbdf",
            "768e89acce6c49dd89c42fc53e87b83d",
            "383825197c1f4f61adedfb39f3769b08",
            "bd120671846f40c7b2425b3bc4213165",
            "b443d5ff03164c54ae534a8a40c86948",
            "4a826ede1b2f4641b7116af0a6914ab0",
            "874c9bbd7df7416f9834f888460a29ea",
            "c196c4da3c664ede9fe46fb43d88cb9a",
            "d4ab7c3faf1f41ad9a768eab7cdb7c16",
            "87bbf4903a89482d9f1cf46428fa1879",
            "fdeb2645677145759cf93e0f754684a5",
            "941ba075423f4734ba1ac4832b815f94",
            "8d4d69c675584bb0aa78206cb16ed3db",
            "4d142748697842ceae483e7424022b76",
            "86f3a61a9db74ad1b2bc73caf2aadae9",
            "1b6d3582fad34e86bfb5d3f6530b7c44",
            "acef04dd442941a4a995937f7a073f2d"
          ]
        },
        "id": "enuPMlRDGCbM",
        "outputId": "9dad7ef2-2397-448f-c8cf-a2d8e6208179"
      },
      "source": [
        "flair_sentiment = flair.models.TextClassifier.load('en-sentiment')\n",
        "sentiment_score = []\n",
        "for i in range(len(df)):\n",
        "   s = flair.data.Sentence(df['sentence'][i])\n",
        "   flair_sentiment.predict(s)\n",
        "   total_sentiment = s.labels\n",
        "   sentiment_score.append(str(total_sentiment[0]))"
      ],
      "execution_count": 5,
      "outputs": [
        {
          "output_type": "stream",
          "text": [
            "2021-04-20 12:16:26,980 https://nlp.informatik.hu-berlin.de/resources/models/sentiment-curated-distilbert/sentiment-en-mix-distillbert_4.pt not found in cache, downloading to /tmp/tmpkei64z71\n"
          ],
          "name": "stdout"
        },
        {
          "output_type": "stream",
          "text": [
            "100%|██████████| 265512723/265512723 [00:11<00:00, 24127367.79B/s]"
          ],
          "name": "stderr"
        },
        {
          "output_type": "stream",
          "text": [
            "2021-04-20 12:16:38,100 copying /tmp/tmpkei64z71 to cache at /root/.flair/models/sentiment-en-mix-distillbert_4.pt\n"
          ],
          "name": "stdout"
        },
        {
          "output_type": "stream",
          "text": [
            "\n"
          ],
          "name": "stderr"
        },
        {
          "output_type": "stream",
          "text": [
            "2021-04-20 12:16:38,699 removing temp file /tmp/tmpkei64z71\n",
            "2021-04-20 12:16:39,198 loading file /root/.flair/models/sentiment-en-mix-distillbert_4.pt\n"
          ],
          "name": "stdout"
        },
        {
          "output_type": "display_data",
          "data": {
            "application/vnd.jupyter.widget-view+json": {
              "model_id": "94871525a41641168fe6ff842deab7f1",
              "version_minor": 0,
              "version_major": 2
            },
            "text/plain": [
              "HBox(children=(FloatProgress(value=0.0, description='Downloading', max=231508.0, style=ProgressStyle(descripti…"
            ]
          },
          "metadata": {
            "tags": []
          }
        },
        {
          "output_type": "stream",
          "text": [
            "\n"
          ],
          "name": "stdout"
        },
        {
          "output_type": "display_data",
          "data": {
            "application/vnd.jupyter.widget-view+json": {
              "model_id": "768e89acce6c49dd89c42fc53e87b83d",
              "version_minor": 0,
              "version_major": 2
            },
            "text/plain": [
              "HBox(children=(FloatProgress(value=0.0, description='Downloading', max=466062.0, style=ProgressStyle(descripti…"
            ]
          },
          "metadata": {
            "tags": []
          }
        },
        {
          "output_type": "stream",
          "text": [
            "\n"
          ],
          "name": "stdout"
        },
        {
          "output_type": "display_data",
          "data": {
            "application/vnd.jupyter.widget-view+json": {
              "model_id": "87bbf4903a89482d9f1cf46428fa1879",
              "version_minor": 0,
              "version_major": 2
            },
            "text/plain": [
              "HBox(children=(FloatProgress(value=0.0, description='Downloading', max=28.0, style=ProgressStyle(description_w…"
            ]
          },
          "metadata": {
            "tags": []
          }
        },
        {
          "output_type": "stream",
          "text": [
            "\n"
          ],
          "name": "stdout"
        }
      ]
    },
    {
      "cell_type": "code",
      "metadata": {
        "colab": {
          "base_uri": "https://localhost:8080/",
          "height": 348
        },
        "id": "fubKchInpyKc",
        "outputId": "6b169ae4-30f6-4734-f761-c31585e22f30"
      },
      "source": [
        "ex = {'sentence':df['sentence'],'sentiment':sentiment_score}\n",
        "df = pd.DataFrame(ex)\n",
        "df.head(10)"
      ],
      "execution_count": 6,
      "outputs": [
        {
          "output_type": "execute_result",
          "data": {
            "text/html": [
              "<div>\n",
              "<style scoped>\n",
              "    .dataframe tbody tr th:only-of-type {\n",
              "        vertical-align: middle;\n",
              "    }\n",
              "\n",
              "    .dataframe tbody tr th {\n",
              "        vertical-align: top;\n",
              "    }\n",
              "\n",
              "    .dataframe thead th {\n",
              "        text-align: right;\n",
              "    }\n",
              "</style>\n",
              "<table border=\"1\" class=\"dataframe\">\n",
              "  <thead>\n",
              "    <tr style=\"text-align: right;\">\n",
              "      <th></th>\n",
              "      <th>sentence</th>\n",
              "      <th>sentiment</th>\n",
              "    </tr>\n",
              "  </thead>\n",
              "  <tbody>\n",
              "    <tr>\n",
              "      <th>0</th>\n",
              "      <td>How is it possible that a black hole appears t...</td>\n",
              "      <td>NEGATIVE (0.9832)</td>\n",
              "    </tr>\n",
              "    <tr>\n",
              "      <th>1</th>\n",
              "      <td>The answer, quantum theory tells us, is that t...</td>\n",
              "      <td>NEGATIVE (0.823)</td>\n",
              "    </tr>\n",
              "    <tr>\n",
              "      <th>2</th>\n",
              "      <td>We can understand this in the following way: w...</td>\n",
              "      <td>NEGATIVE (0.9038)</td>\n",
              "    </tr>\n",
              "    <tr>\n",
              "      <th>3</th>\n",
              "      <td>However, the value of a field and its rate ofc...</td>\n",
              "      <td>NEGATIVE (0.699)</td>\n",
              "    </tr>\n",
              "    <tr>\n",
              "      <th>4</th>\n",
              "      <td>So in empty space the fieldcannot be fixed at ...</td>\n",
              "      <td>NEGATIVE (0.9991)</td>\n",
              "    </tr>\n",
              "    <tr>\n",
              "      <th>5</th>\n",
              "      <td>There must be a certain minimum amount of unce...</td>\n",
              "      <td>NEGATIVE (0.5349)</td>\n",
              "    </tr>\n",
              "    <tr>\n",
              "      <th>6</th>\n",
              "      <td>One can think of these fluctuations as pairs o...</td>\n",
              "      <td>NEGATIVE (0.8008)</td>\n",
              "    </tr>\n",
              "    <tr>\n",
              "      <th>7</th>\n",
              "      <td>These particles are virtual particles like the...</td>\n",
              "      <td>NEGATIVE (0.9952)</td>\n",
              "    </tr>\n",
              "    <tr>\n",
              "      <th>8</th>\n",
              "      <td>However, their indirect effects, such as small...</td>\n",
              "      <td>POSITIVE (0.9975)</td>\n",
              "    </tr>\n",
              "    <tr>\n",
              "      <th>9</th>\n",
              "      <td>The uncertainty principle alsopredicts that th...</td>\n",
              "      <td>NEGATIVE (0.9624)</td>\n",
              "    </tr>\n",
              "  </tbody>\n",
              "</table>\n",
              "</div>"
            ],
            "text/plain": [
              "                                            sentence          sentiment\n",
              "0  How is it possible that a black hole appears t...  NEGATIVE (0.9832)\n",
              "1  The answer, quantum theory tells us, is that t...   NEGATIVE (0.823)\n",
              "2  We can understand this in the following way: w...  NEGATIVE (0.9038)\n",
              "3  However, the value of a field and its rate ofc...   NEGATIVE (0.699)\n",
              "4  So in empty space the fieldcannot be fixed at ...  NEGATIVE (0.9991)\n",
              "5  There must be a certain minimum amount of unce...  NEGATIVE (0.5349)\n",
              "6  One can think of these fluctuations as pairs o...  NEGATIVE (0.8008)\n",
              "7  These particles are virtual particles like the...  NEGATIVE (0.9952)\n",
              "8  However, their indirect effects, such as small...  POSITIVE (0.9975)\n",
              "9  The uncertainty principle alsopredicts that th...  NEGATIVE (0.9624)"
            ]
          },
          "metadata": {
            "tags": []
          },
          "execution_count": 6
        }
      ]
    },
    {
      "cell_type": "code",
      "metadata": {
        "colab": {
          "base_uri": "https://localhost:8080/",
          "height": 35
        },
        "id": "uILiF9iv4sYM",
        "outputId": "b9ac6a89-0d00-4bc6-ff2f-2020a763d763"
      },
      "source": [
        "df['sentence'][6]"
      ],
      "execution_count": 7,
      "outputs": [
        {
          "output_type": "execute_result",
          "data": {
            "application/vnd.google.colaboratory.intrinsic+json": {
              "type": "string"
            },
            "text/plain": [
              "'One can think of these fluctuations as pairs of particles of light or gravity that appear together at some time, moveapart, and then come together again and annihilate each other.'"
            ]
          },
          "metadata": {
            "tags": []
          },
          "execution_count": 7
        }
      ]
    },
    {
      "cell_type": "code",
      "metadata": {
        "id": "pAjm85sIyWJ9"
      },
      "source": [
        "df.drop(['sentiment'],axis=1,inplace=True)"
      ],
      "execution_count": 8,
      "outputs": []
    },
    {
      "cell_type": "markdown",
      "metadata": {
        "id": "LN_Jm-FCWPif"
      },
      "source": [
        "Using a Bag of words model with some simple heuristics"
      ]
    },
    {
      "cell_type": "code",
      "metadata": {
        "id": "TTmtN5xKOmf8"
      },
      "source": [
        "sid = SentimentIntensityAnalyzer()\n",
        "neg,neu,pos = [],[],[]\n",
        "senti = []\n",
        "for i in range(len(df)):\n",
        "  score = sid.polarity_scores(df['sentence'][i])\n",
        "  neg.append(score['neg'])\n",
        "  neu.append(score['neu'])\n",
        "  pos.append(score['pos'])\n",
        "  if score['compound']<=-0.05:\n",
        "    senti.append('Negative')\n",
        "  elif score['compound']>=0.05:\n",
        "    senti.append('Positive')\n",
        "  else:\n",
        "    senti.append('Neutral')\n",
        "\n",
        "\n",
        "df = df.assign(sentiment = senti, positive = pos, neutral = neu, negative = neg)"
      ],
      "execution_count": 9,
      "outputs": []
    },
    {
      "cell_type": "code",
      "metadata": {
        "colab": {
          "base_uri": "https://localhost:8080/",
          "height": 198
        },
        "id": "_AHOph3OOtW0",
        "outputId": "663992ff-7d8e-4051-ee55-661624e2905d"
      },
      "source": [
        "df.head(5)"
      ],
      "execution_count": 10,
      "outputs": [
        {
          "output_type": "execute_result",
          "data": {
            "text/html": [
              "<div>\n",
              "<style scoped>\n",
              "    .dataframe tbody tr th:only-of-type {\n",
              "        vertical-align: middle;\n",
              "    }\n",
              "\n",
              "    .dataframe tbody tr th {\n",
              "        vertical-align: top;\n",
              "    }\n",
              "\n",
              "    .dataframe thead th {\n",
              "        text-align: right;\n",
              "    }\n",
              "</style>\n",
              "<table border=\"1\" class=\"dataframe\">\n",
              "  <thead>\n",
              "    <tr style=\"text-align: right;\">\n",
              "      <th></th>\n",
              "      <th>sentence</th>\n",
              "      <th>sentiment</th>\n",
              "      <th>positive</th>\n",
              "      <th>neutral</th>\n",
              "      <th>negative</th>\n",
              "    </tr>\n",
              "  </thead>\n",
              "  <tbody>\n",
              "    <tr>\n",
              "      <th>0</th>\n",
              "      <td>How is it possible that a black hole appears t...</td>\n",
              "      <td>Negative</td>\n",
              "      <td>0.000</td>\n",
              "      <td>0.933</td>\n",
              "      <td>0.067</td>\n",
              "    </tr>\n",
              "    <tr>\n",
              "      <th>1</th>\n",
              "      <td>The answer, quantum theory tells us, is that t...</td>\n",
              "      <td>Neutral</td>\n",
              "      <td>0.000</td>\n",
              "      <td>1.000</td>\n",
              "      <td>0.000</td>\n",
              "    </tr>\n",
              "    <tr>\n",
              "      <th>2</th>\n",
              "      <td>We can understand this in the following way: w...</td>\n",
              "      <td>Positive</td>\n",
              "      <td>0.047</td>\n",
              "      <td>0.953</td>\n",
              "      <td>0.000</td>\n",
              "    </tr>\n",
              "    <tr>\n",
              "      <th>3</th>\n",
              "      <td>However, the value of a field and its rate ofc...</td>\n",
              "      <td>Positive</td>\n",
              "      <td>0.111</td>\n",
              "      <td>0.835</td>\n",
              "      <td>0.054</td>\n",
              "    </tr>\n",
              "    <tr>\n",
              "      <th>4</th>\n",
              "      <td>So in empty space the fieldcannot be fixed at ...</td>\n",
              "      <td>Positive</td>\n",
              "      <td>0.084</td>\n",
              "      <td>0.843</td>\n",
              "      <td>0.073</td>\n",
              "    </tr>\n",
              "  </tbody>\n",
              "</table>\n",
              "</div>"
            ],
            "text/plain": [
              "                                            sentence  ... negative\n",
              "0  How is it possible that a black hole appears t...  ...    0.067\n",
              "1  The answer, quantum theory tells us, is that t...  ...    0.000\n",
              "2  We can understand this in the following way: w...  ...    0.000\n",
              "3  However, the value of a field and its rate ofc...  ...    0.054\n",
              "4  So in empty space the fieldcannot be fixed at ...  ...    0.073\n",
              "\n",
              "[5 rows x 5 columns]"
            ]
          },
          "metadata": {
            "tags": []
          },
          "execution_count": 10
        }
      ]
    },
    {
      "cell_type": "markdown",
      "metadata": {
        "id": "BJnu6vFucQFv"
      },
      "source": [
        "Sentiment for the entire paragraph"
      ]
    },
    {
      "cell_type": "code",
      "metadata": {
        "colab": {
          "base_uri": "https://localhost:8080/"
        },
        "id": "9U_AwyVvcI0c",
        "outputId": "8b4fa169-bf94-4822-c0cd-8095dbd3aba6"
      },
      "source": [
        "sid = SentimentIntensityAnalyzer()\n",
        "sid.polarity_scores(para)"
      ],
      "execution_count": 11,
      "outputs": [
        {
          "output_type": "execute_result",
          "data": {
            "text/plain": [
              "{'compound': 0.9987, 'neg': 0.046, 'neu': 0.83, 'pos': 0.124}"
            ]
          },
          "metadata": {
            "tags": []
          },
          "execution_count": 11
        }
      ]
    },
    {
      "cell_type": "markdown",
      "metadata": {
        "id": "uk1St7FdUnrE"
      },
      "source": [
        "Topic for the paragraph"
      ]
    },
    {
      "cell_type": "code",
      "metadata": {
        "id": "d1lHAFDxcZ2j"
      },
      "source": [
        "stop_words=set(nltk.corpus.stopwords.words('english'))\n",
        "df['clean_doc'] = df['sentence'].str.replace(\"[^a-zA-Z#]\", \" \")\n",
        "def clean_text(headline):\n",
        "    le=WordNetLemmatizer()\n",
        "    word_tokens=word_tokenize(headline)\n",
        "    tokens=[le.lemmatize(w) for w in word_tokens if w not in stop_words]\n",
        "    cleaned_text=\" \".join(tokens)\n",
        "    return cleaned_text\n",
        "df['clean_doc'] = df['clean_doc'].apply(clean_text)"
      ],
      "execution_count": 12,
      "outputs": []
    },
    {
      "cell_type": "code",
      "metadata": {
        "id": "XWT_cmuCcpXK"
      },
      "source": [
        "vect =TfidfVectorizer(stop_words=stop_words,max_features=1000)\n",
        "vect_text=vect.fit_transform(df['clean_doc'])"
      ],
      "execution_count": 13,
      "outputs": []
    },
    {
      "cell_type": "code",
      "metadata": {
        "colab": {
          "base_uri": "https://localhost:8080/"
        },
        "id": "XQG69f4veU7r",
        "outputId": "b9798a82-242d-4c99-da84-6a3c0d19ef83"
      },
      "source": [
        "print(vect_text.shape)"
      ],
      "execution_count": 14,
      "outputs": [
        {
          "output_type": "stream",
          "text": [
            "(49, 330)\n"
          ],
          "name": "stdout"
        }
      ]
    },
    {
      "cell_type": "code",
      "metadata": {
        "id": "Ebcxzr14eiFk"
      },
      "source": [
        "from sklearn.decomposition import TruncatedSVD\n",
        "svd = TruncatedSVD(n_components = 2)\n",
        "lsa = svd.fit_transform(vect_text)"
      ],
      "execution_count": 15,
      "outputs": []
    },
    {
      "cell_type": "code",
      "metadata": {
        "colab": {
          "base_uri": "https://localhost:8080/"
        },
        "id": "hcnNZFwxfJpj",
        "outputId": "7687295f-1448-4837-e09c-39562c6f69b8"
      },
      "source": [
        "l=lsa[0]\n",
        "print(\"Document 0 :\")\n",
        "for i,topic in enumerate(l):\n",
        "  print(\"Topic \",i,\" : \",abs(topic*100))"
      ],
      "execution_count": 16,
      "outputs": [
        {
          "output_type": "stream",
          "text": [
            "Document 0 :\n",
            "Topic  0  :  17.419655475164486\n",
            "Topic  1  :  42.089635747053464\n"
          ],
          "name": "stdout"
        }
      ]
    },
    {
      "cell_type": "code",
      "metadata": {
        "colab": {
          "base_uri": "https://localhost:8080/"
        },
        "id": "i59MCxogfwoo",
        "outputId": "60de4c7f-e9ef-4294-ae6d-b0073049e304"
      },
      "source": [
        "vocab = vect.get_feature_names()\n",
        "\n",
        "for i, comp in enumerate(svd.components_):\n",
        "    terms_comp = zip(vocab, comp)\n",
        "    sorted_terms = sorted(terms_comp, key= lambda x:x[1], reverse=True)[:10]\n",
        "    print(\"Topic \"+str(i)+\": \")\n",
        "    for t in sorted_terms:\n",
        "        print(t[0],end = ' ')\n",
        "    print(\" \")"
      ],
      "execution_count": 18,
      "outputs": [
        {
          "output_type": "stream",
          "text": [
            "Topic 0: \n",
            "light speed energy time particle mass observer agree would black  \n",
            "Topic 1: \n",
            "particle black hole energy antiparticle real positive partner negative one  \n"
          ],
          "name": "stdout"
        }
      ]
    },
    {
      "cell_type": "code",
      "metadata": {
        "id": "DVzVWAzXWotP"
      },
      "source": [
        "from sklearn.decomposition import LatentDirichletAllocation\n",
        "lda_model=LatentDirichletAllocation(n_components=2) \n",
        "lda_top=lda_model.fit_transform(vect_text)"
      ],
      "execution_count": 19,
      "outputs": []
    },
    {
      "cell_type": "code",
      "metadata": {
        "colab": {
          "base_uri": "https://localhost:8080/"
        },
        "id": "7uLE1LSmWzvJ",
        "outputId": "c2567db2-a9d7-4978-ffa6-941bbdbd06e0"
      },
      "source": [
        "print(\"Document 0: \")\n",
        "for i,topic in enumerate(lda_top[33]):\n",
        "  print(\"Topic \",i,\": \",topic*100,\"%\")"
      ],
      "execution_count": 20,
      "outputs": [
        {
          "output_type": "stream",
          "text": [
            "Document 0: \n",
            "Topic  0 :  14.714764942701212 %\n",
            "Topic  1 :  85.28523505729879 %\n"
          ],
          "name": "stdout"
        }
      ]
    },
    {
      "cell_type": "code",
      "metadata": {
        "colab": {
          "base_uri": "https://localhost:8080/",
          "height": 35
        },
        "id": "sHTUYX5-erql",
        "outputId": "458957e5-9166-454a-e24d-09099c2dd33e"
      },
      "source": [
        "df['sentence'][33]"
      ],
      "execution_count": 21,
      "outputs": [
        {
          "output_type": "execute_result",
          "data": {
            "application/vnd.google.colaboratory.intrinsic+json": {
              "type": "string"
            },
            "text/plain": [
              "'As an object approaches the speed of light, its massrises ever more quickly, so it takes more and more energy to speed it up further.'"
            ]
          },
          "metadata": {
            "tags": []
          },
          "execution_count": 21
        }
      ]
    },
    {
      "cell_type": "code",
      "metadata": {
        "colab": {
          "base_uri": "https://localhost:8080/"
        },
        "id": "EPCtQmExW6t8",
        "outputId": "ce6f9014-bf2e-458b-882c-c5839d7461c7"
      },
      "source": [
        "vocab = vect.get_feature_names()\n",
        "\n",
        "for i, comp in enumerate(lda_model.components_):\n",
        "    vocab_comp = zip(vocab, comp)\n",
        "    sorted_words = sorted(vocab_comp, key= lambda x:x[1], reverse=True)[:10]\n",
        "    print(\"Topic \"+str(i)+\": \")\n",
        "    \n",
        "    for t in sorted_words:\n",
        "        print(t[0],end=\" \")\n",
        "    print(\"\\n\")"
      ],
      "execution_count": 22,
      "outputs": [
        {
          "output_type": "stream",
          "text": [
            "Topic 0: \n",
            "particle energy black hole one antiparticle real field pair partner \n",
            "\n",
            "Topic 1: \n",
            "light speed time mass observer relativity agree must event annihilate \n",
            "\n"
          ],
          "name": "stdout"
        }
      ]
    }
  ]
}