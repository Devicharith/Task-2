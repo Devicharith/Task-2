{
  "nbformat": 4,
  "nbformat_minor": 0,
  "metadata": {
    "colab": {
      "name": "Sentiment Analysis.ipynb",
      "provenance": [],
      "authorship_tag": "ABX9TyMXUDNF2Qc4dEa7d5IWHATU",
      "include_colab_link": true
    },
    "kernelspec": {
      "name": "python3",
      "display_name": "Python 3"
    },
    "language_info": {
      "name": "python"
    }
  },
  "cells": [
    {
      "cell_type": "markdown",
      "metadata": {
        "id": "view-in-github",
        "colab_type": "text"
      },
      "source": [
        "<a href=\"https://colab.research.google.com/github/Devicharith/Task-2/blob/main/Sentiment_Analysis.ipynb\" target=\"_parent\"><img src=\"https://colab.research.google.com/assets/colab-badge.svg\" alt=\"Open In Colab\"/></a>"
      ]
    },
    {
      "cell_type": "markdown",
      "metadata": {
        "id": "M3iaCHt09DRd"
      },
      "source": [
        "# Text to Sequence "
      ]
    },
    {
      "cell_type": "code",
      "metadata": {
        "id": "DUS6TMds8337"
      },
      "source": [
        "max_features = 50000\n",
        "from keras.preprocessing.text import Tokenizer\n",
        "tokens = Tokenizer(num_words=max_features)\n",
        "tokens.fit_on_texts(train_text)\n",
        "train_tokens = tokens.texts_to_sequences(train_text)\n",
        "test_tokens = tokens.texts_to_sequences(test_text)"
      ],
      "execution_count": null,
      "outputs": []
    },
    {
      "cell_type": "markdown",
      "metadata": {
        "id": "Y-ynOpjG9Slm"
      },
      "source": [
        "# Padding to maintain fixed length"
      ]
    },
    {
      "cell_type": "code",
      "metadata": {
        "id": "xxbv9UtK9W4D"
      },
      "source": [
        "from keras.preprocessing.sequence import pad_sequences\n",
        "maxlen = 100\n",
        "tra_x = pad_sequences(train_tokens, maxlen=100)\n",
        "te_x = pad_sequences(test_tokens, maxlen=100)"
      ],
      "execution_count": null,
      "outputs": []
    },
    {
      "cell_type": "markdown",
      "metadata": {
        "id": "EvS0YeGP9lvj"
      },
      "source": [
        "# Model"
      ]
    },
    {
      "cell_type": "code",
      "metadata": {
        "id": "3G1PFLSh9pi5"
      },
      "source": [
        "from keras.models import Sequential\n",
        "from keras.layers import Dense, Dropout\n",
        "from keras.layers import Embedding\n",
        "from keras.layers import LSTM\n",
        "from keras.layers import GlobalMaxPool1D\n",
        "from keras.layers import Bidirectional\n",
        "model = Sequential()\n",
        "#Embedding\n",
        "model.add(Embedding(input_dim = 50000,output_dim = 64,input_length=100))\n",
        "#Lstm\n",
        "model.add(Bidirectional(LSTM(64,return_sequences=True)))\n",
        "#Maxpooling\n",
        "model.add(GlobalMaxPool1D())\n",
        "#Dense\n",
        "model.add(Dense(50,activation = 'relu'))\n",
        "#Dropout\n",
        "model.add(Dropout(0.1))\n",
        "#Dense\n",
        "model.add(Dense(3,activation = 'sigmoid'))"
      ],
      "execution_count": null,
      "outputs": []
    },
    {
      "cell_type": "markdown",
      "metadata": {
        "id": "d4oHYaFd-PoC"
      },
      "source": [
        "# Train our model"
      ]
    },
    {
      "cell_type": "code",
      "metadata": {
        "id": "OMFt3dOq-DhP"
      },
      "source": [
        "model.compile(loss='binary_crossentropy',optimizer='adam',metrics=['accuracy'])\n",
        "\n",
        "senti_types = ['Positive','Neutral','Negative']\n",
        "y = train[senti_types].values\n",
        "model.fit(tra_x,y,batch_size=64, epochs=1)"
      ],
      "execution_count": null,
      "outputs": []
    }
  ]
}